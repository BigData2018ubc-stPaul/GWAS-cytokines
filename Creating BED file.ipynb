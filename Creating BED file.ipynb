{
 "cells": [
  {
   "cell_type": "markdown",
   "metadata": {},
   "source": [
    "# The code in this notebook was used to create a .ped file from a .bed file\n",
    "\n",
    "## Creating .ped files used for running GWAS on plink\n",
    "\n",
    "The tarball contains data from the VASST study.  For new datasets, assuming there are .bed, .bim and .fam files, rename all their prefixes to template and replace the files in the \"template\" folder, and everything will work.\n",
    "\n",
    "The idea is to convert a .bed file into a .ped file, then modify it so it will contain the cytokine level as \"trait\" instead of survival.  Afterwards, the .ped file can be repacked into a binary .bed file and a GWAS can be performed by plink."
   ]
  },
  {
   "cell_type": "code",
   "execution_count": null,
   "metadata": {},
   "outputs": [],
   "source": [
    "!tar -zxvf template.tar.gz"
   ]
  },
  {
   "cell_type": "code",
   "execution_count": null,
   "metadata": {},
   "outputs": [],
   "source": [
    "# Convert the binary .bed file into a .ped file\n",
    "\n",
    "!plink --bfile template/template --recode --tab --out template/template --noweb"
   ]
  },
  {
   "cell_type": "code",
   "execution_count": null,
   "metadata": {},
   "outputs": [],
   "source": [
    "# Create a .map file (which are just the first 4 columns of the .bim file)\n",
    "# This file is required to create a .bed file\n",
    "\n",
    "!cut -f 1-4 template/template.bim >> template/template.map"
   ]
  },
  {
   "cell_type": "code",
   "execution_count": null,
   "metadata": {},
   "outputs": [],
   "source": [
    "# Because the .ped file is large, and only the first few columns are required to be modified, the file is cut in \n",
    "# two (one with the first 6 columns, one with all the SNPs) and only the first few columns are modified to\n",
    "# prevent loading the entire ~1 million columns\n",
    "\n",
    "!cut -f 7- template/template.ped >> template/cut_template.ped"
   ]
  },
  {
   "cell_type": "markdown",
   "metadata": {},
   "source": [
    "# Creating .bed files and running GWAS"
   ]
  },
  {
   "cell_type": "code",
   "execution_count": null,
   "metadata": {},
   "outputs": [],
   "source": [
    "import pandas as pd \n",
    "\n",
    "# Assuming that the excel file is formatted like the excel of the VASST study, modification are unecessary\n",
    "cytokines = pd.read_excel(\"VASST_data/Sepsis_patient_cytokine_levels.xlsx\")"
   ]
  },
  {
   "cell_type": "code",
   "execution_count": null,
   "metadata": {},
   "outputs": [],
   "source": [
    "# For a binary interpretation of cytokine levels, the mean is calculated and the trait is interpreted as either\n",
    "# low levels or high levels of cytokine (above or below the mean)\n",
    "\n",
    "mean_cytokine = cytokines.mean(0)"
   ]
  },
  {
   "cell_type": "code",
   "execution_count": null,
   "metadata": {},
   "outputs": [],
   "source": [
    "# Since the first 6 columns of the .ped file is the same as the .fam file, we can load either of the files\n",
    "\n",
    "ped = pd.read_csv(\"template/template.fam\", sep=' ', \n",
    "                  names=[\"fid\", \"iid\", \"father\", \"mother\", \"gender\", \"trait\"])"
   ]
  },
  {
   "cell_type": "code",
   "execution_count": null,
   "metadata": {},
   "outputs": [],
   "source": [
    "# This script is for modifying the .ped file and running an quantitative GWAS on plink.  The results obtained \n",
    "# were from a quantitative GWAS where the trait was the exact value of the cytokine level\n",
    "\n",
    "# The commented segments are for a binary interpretation of cytokine levels\n",
    "\n",
    "import math\n",
    "import os\n",
    "import subprocess\n",
    "\n",
    "cwd = os.getcwd()\n",
    "\n",
    "# This huge loop creates subdirectories in either 'continuous_cytokines' or 'binary_cytokines'\n",
    "# corresponding to each cytokine.  Within the subdirectory will be the GWAS association results in .qassoc \n",
    "# or .assoc as well as a manhattan plot and a .bed file\n",
    "\n",
    "for cytokine in mean_cytokine.iteritems():\n",
    "    destination = os.path.join(cwd, 'continuous_cytokines/'+cytokine[0])\n",
    "#     destination = os.path.join(cwd, 'binary_cytokines/'+cytokine[0])\n",
    "    for index,row in ped.iterrows():\n",
    "        cytokine_level = float(cytokines.loc[cytokines['SampleNumber'] == row['fid']][cytokine[0]].values)\n",
    "        ### If there is no cytokine level, drop this row\n",
    "        if math.isnan(cytokine_level):\n",
    "            ped.drop(ped.index[index])\n",
    "#         elif cytokine_level < mean_cytokine[cytokine[0]]:\n",
    "#             ped.at[index, 'trait'] = 1\n",
    "#         else:\n",
    "#             ped.at[index, 'trait'] = 2\n",
    "        else:\n",
    "            ped.at[index, 'trait'] = cytokine_level\n",
    "    if not os.path.exists(destination):\n",
    "        os.makedirs(destination)\n",
    "    ped.to_csv(os.path.join(destination, cytokine[0]+\"_temp.ped\"), \n",
    "               header=None, index=None, sep=' ', mode='a')\n",
    "    subprocess.call(['cp', 'template/template.map', destination])\n",
    "    subprocess.call(['mv', os.path.join(destination, 'template.map'), os.path.join(destination, cytokine[0]+\".map\")])\n",
    "    paste = \"paste -d' ' %s template/cut_template.ped >> %s\" % (os.path.join(destination, cytokine[0]+\"_temp.ped\"), os.path.join(destination, cytokine[0]+\".ped\"))\n",
    "    !{paste}\n",
    "    bed = \"plink --file %s --make-bed --out %s --noweb\" % (os.path.join(destination, cytokine[0]), os.path.join(destination, cytokine[0]))\n",
    "    gwas = \"plink --bfile %s --assoc --out %s --noweb\" % (os.path.join(destination, cytokine[0]), os.path.join(destination, cytokine[0]))\n",
    "    !{bed}\n",
    "    !{gwas}\n",
    "    Rscript = \"Rscript --vanilla ../../visualization/manhattan.R %s %s\" % (os.path.join(destination, cytokine[0]+\".qassoc\"), os.path.join(destination, cytokine[0]+\".png\"))\n",
    "#     Rscript = \"Rscript --vanilla ../../visualization/manhattan.R %s %s\" % (os.path.join(destination, cytokine[0]+\".assoc\"), os.path.join(destination, cytokine[0]+\".png\"))\n",
    "    !{Rscript}\n",
    "    delete = \"rm %s\" % os.path.join(destination, \"*.ped\")\n",
    "    !{delete}"
   ]
  }
 ],
 "metadata": {
  "kernelspec": {
   "display_name": "Python 3",
   "language": "python",
   "name": "python3"
  },
  "language_info": {
   "codemirror_mode": {
    "name": "ipython",
    "version": 3
   },
   "file_extension": ".py",
   "mimetype": "text/x-python",
   "name": "python",
   "nbconvert_exporter": "python",
   "pygments_lexer": "ipython3",
   "version": "3.6.4"
  }
 },
 "nbformat": 4,
 "nbformat_minor": 2
}
