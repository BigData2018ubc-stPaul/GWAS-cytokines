{
 "cells": [
  {
   "cell_type": "code",
   "execution_count": 1,
   "metadata": {},
   "outputs": [],
   "source": [
    "import pandas as pd \n",
    "cytokines = pd.read_excel(\"Sepsis_patient_cytokine_levels.xlsx\")"
   ]
  },
  {
   "cell_type": "code",
   "execution_count": null,
   "metadata": {},
   "outputs": [],
   "source": [
    "mean_cytokine = cytokines.mean(0)"
   ]
  },
  {
   "cell_type": "code",
   "execution_count": null,
   "metadata": {},
   "outputs": [],
   "source": [
    "ped = pd.read_csv(\"sample.ped\", sep=' ', \n",
    "                  names=[\"fid\", \"iid\", \"father\", \"mother\", \"gender\", \"trait\"])"
   ]
  },
  {
   "cell_type": "code",
   "execution_count": null,
   "metadata": {},
   "outputs": [],
   "source": [
    "import math\n",
    "import os\n",
    "import subprocess\n",
    "\n",
    "cwd = os.getcwd()\n",
    "\n",
    "for cytokine in mean_cytokine.iteritems():\n",
    "    destination = os.path.join(cwd, 'binary_cytokines/'+cytokine[0])\n",
    "    for index,row in ped.iterrows():\n",
    "        cytokine_level = float(cytokines.loc[cytokines['SampleNumber'] == row['fid']][cytokine[0]].values)\n",
    "        if math.isnan(cytokine_level):\n",
    "            ped.drop(ped.index[index])\n",
    "        elif cytokine_level < mean_cytokine[cytokine[0]]:\n",
    "            ped.at[index, 'trait'] = 1\n",
    "        else:\n",
    "            ped.at[index, 'trait'] = 2\n",
    "    if not os.path.exists(destination):\n",
    "        os.makedirs(destination)\n",
    "    ped.to_csv(os.path.join(destination, cytokine[0]+\".ped\"), \n",
    "               header=None, index=None, sep=' ', mode='a')\n",
    "    subprocess.call(['cp', 'sample.map', destination])\n",
    "    subprocess.call(['mv', os.path.join(destination, 'sample.map'), os.path.join(destination, cytokine[0]+\".map\")])\n",
    "#     os.chdir(destination)\n",
    "#     subprocess.call(['plink', '--file', cytokine[0], '--make-bed', '--out', cytokine[0]])\n",
    "#     os.chdir(cwd)\n"
   ]
  }
 ],
 "metadata": {
  "kernelspec": {
   "display_name": "Python 3",
   "language": "python",
   "name": "python3"
  },
  "language_info": {
   "codemirror_mode": {
    "name": "ipython",
    "version": 3
   },
   "file_extension": ".py",
   "mimetype": "text/x-python",
   "name": "python",
   "nbconvert_exporter": "python",
   "pygments_lexer": "ipython3",
   "version": "3.6.4"
  }
 },
 "nbformat": 4,
 "nbformat_minor": 2
}
