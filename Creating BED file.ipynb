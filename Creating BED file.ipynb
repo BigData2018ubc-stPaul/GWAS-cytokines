{
 "cells": [
  {
   "cell_type": "markdown",
   "metadata": {},
   "source": [
    "# Creating template files"
   ]
  },
  {
   "cell_type": "code",
   "execution_count": null,
   "metadata": {},
   "outputs": [],
   "source": [
    "!tar -zxvf template.tar.gz"
   ]
  },
  {
   "cell_type": "code",
   "execution_count": null,
   "metadata": {},
   "outputs": [],
   "source": [
    "!plink --bfile template/template --recode --tab --out template/template --noweb"
   ]
  },
  {
   "cell_type": "code",
   "execution_count": null,
   "metadata": {},
   "outputs": [],
   "source": [
    "!cut -f 7- template/template.ped >> template/cut_template.ped"
   ]
  },
  {
   "cell_type": "markdown",
   "metadata": {},
   "source": [
    "# Creating .bed files"
   ]
  },
  {
   "cell_type": "code",
   "execution_count": null,
   "metadata": {},
   "outputs": [],
   "source": [
    "import pandas as pd \n",
    "\n",
    "cytokines = pd.read_excel(\"Sepsis_patient_cytokine_levels.xlsx\")"
   ]
  },
  {
   "cell_type": "code",
   "execution_count": null,
   "metadata": {},
   "outputs": [],
   "source": [
    "mean_cytokine = cytokines.mean(0)"
   ]
  },
  {
   "cell_type": "code",
   "execution_count": null,
   "metadata": {},
   "outputs": [],
   "source": [
    "ped = pd.read_csv(\"template/template.fam\", sep=' ', \n",
    "                  names=[\"fid\", \"iid\", \"father\", \"mother\", \"gender\", \"trait\"])"
   ]
  },
  {
   "cell_type": "code",
   "execution_count": null,
   "metadata": {},
   "outputs": [],
   "source": [
    "import math\n",
    "import os\n",
    "import subprocess\n",
    "\n",
    "cwd = os.getcwd()\n",
    "\n",
    "for cytokine in mean_cytokine.iteritems():\n",
    "    destination = os.path.join(cwd, 'binary_cytokines/'+cytokine[0])\n",
    "    for index,row in ped.iterrows():\n",
    "        cytokine_level = float(cytokines.loc[cytokines['SampleNumber'] == row['fid']][cytokine[0]].values)\n",
    "        if math.isnan(cytokine_level):\n",
    "            ped.drop(ped.index[index])\n",
    "        elif cytokine_level < mean_cytokine[cytokine[0]]:\n",
    "            ped.at[index, 'trait'] = 1\n",
    "        else:\n",
    "            ped.at[index, 'trait'] = 2\n",
    "    if not os.path.exists(destination):\n",
    "        os.makedirs(destination)\n",
    "    ped.to_csv(os.path.join(destination, cytokine[0]+\"_temp.ped\"), \n",
    "               header=None, index=None, sep=' ', mode='a')\n",
    "    subprocess.call(['cp', 'template/template.map', destination])\n",
    "    subprocess.call(['mv', os.path.join(destination, 'template.map'), os.path.join(destination, cytokine[0]+\".map\")])\n",
    "    paste = \"paste -d' ' %s template/cut_template.ped >> %s\" % (os.path.join(destination, cytokine[0]+\"_temp.ped\"), os.path.join(destination, cytokine[0]+\".ped\"))\n",
    "    !{paste}\n",
    "    bed = \"plink --file %s --make-bed --out %s\" % (os.path.join(destination, cytokine[0]), os.path.join(destination, cytokine[0]))\n",
    "    gwas = \"plink --bfile %s --assoc --out %s --noweb\" % (os.path.join(desination, cytokine[0], os.path.join(destination, cytokine[0])\n",
    "    !{bed}\n",
    "    !{gwas}\n",
    "    subprocess.call(['Rscript', os.path.join(destination, cytokine[0]+\".assoc\"), os.path.join(destination, cytokine[0]+\".png\")])\n",
    "    "
   ]
  }
 ],
 "metadata": {
  "kernelspec": {
   "display_name": "Python 3",
   "language": "python",
   "name": "python3"
  },
  "language_info": {
   "codemirror_mode": {
    "name": "ipython",
    "version": 3
   },
   "file_extension": ".py",
   "mimetype": "text/x-python",
   "name": "python",
   "nbconvert_exporter": "python",
   "pygments_lexer": "ipython3",
   "version": "3.6.4"
  }
 },
 "nbformat": 4,
 "nbformat_minor": 2
}
