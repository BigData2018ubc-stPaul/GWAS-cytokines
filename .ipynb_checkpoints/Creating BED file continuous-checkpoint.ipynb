{
 "cells": [
  {
   "cell_type": "markdown",
   "metadata": {},
   "source": [
    "# Creating template files"
   ]
  },
  {
   "cell_type": "code",
   "execution_count": null,
   "metadata": {},
   "outputs": [],
   "source": [
    "!tar -zxvf template.tar.gz"
   ]
  },
  {
   "cell_type": "code",
   "execution_count": null,
   "metadata": {},
   "outputs": [],
   "source": [
    "!plink1 --bfile template/template --recode --tab --out template/template --noweb"
   ]
  },
  {
   "cell_type": "code",
   "execution_count": null,
   "metadata": {},
   "outputs": [],
   "source": [
    "!cut -f 7- template/template.ped >> template/cut_template.ped"
   ]
  },
  {
   "cell_type": "markdown",
   "metadata": {},
   "source": [
    "# Creating .bed files"
   ]
  },
  {
   "cell_type": "code",
   "execution_count": 1,
   "metadata": {},
   "outputs": [],
   "source": [
    "import pandas as pd \n",
    "\n",
    "cytokines = pd.read_excel(\"Sepsis_patient_cytokine_levels.xlsx\")"
   ]
  },
  {
   "cell_type": "code",
   "execution_count": 2,
   "metadata": {},
   "outputs": [],
   "source": [
    "mean_cytokine = cytokines.mean(0)"
   ]
  },
  {
   "cell_type": "code",
   "execution_count": 3,
   "metadata": {},
   "outputs": [],
   "source": [
    "ped = pd.read_csv(\"template/template.fam\", sep=' ', \n",
    "                  names=[\"fid\", \"iid\", \"father\", \"mother\", \"gender\", \"trait\"])"
   ]
  },
  {
   "cell_type": "code",
   "execution_count": null,
   "metadata": {},
   "outputs": [
    {
     "name": "stdout",
     "output_type": "stream",
     "text": [
      "\n",
      "@----------------------------------------------------------@\n",
      "|        PLINK!       |     v1.07      |   10/Aug/2009     |\n",
      "|----------------------------------------------------------|\n",
      "|  (C) 2009 Shaun Purcell, GNU General Public License, v2  |\n",
      "|----------------------------------------------------------|\n",
      "|  For documentation, citation & bug-report instructions:  |\n",
      "|        http://pngu.mgh.harvard.edu/purcell/plink/        |\n",
      "@----------------------------------------------------------@\n",
      "\n",
      "Skipping web check... [ --noweb ] \n",
      "Writing this text to log file [ /home/matthew/Documents/pims/GWAS-cytokines/continuous_cytokines/IL1B/IL1B.log ]\n",
      "Analysis started: Wed Jun  6 11:27:30 2018\n",
      "\n",
      "Options in effect:\n",
      "\t--file /home/matthew/Documents/pims/GWAS-cytokines/continuous_cytokines/IL1B/IL1B\n",
      "\t--make-bed\n",
      "\t--out /home/matthew/Documents/pims/GWAS-cytokines/continuous_cytokines/IL1B/IL1B\n",
      "\t--noweb\n",
      "\n",
      "1145510 (of 1145510) markers to be included from [ /home/matthew/Documents/pims/GWAS-cytokines/continuous_cytokines/IL1B/IL1B.map ]\n"
     ]
    }
   ],
   "source": [
    "import math\n",
    "import os\n",
    "import subprocess\n",
    "\n",
    "cwd = os.getcwd()\n",
    "\n",
    "for cytokine in mean_cytokine.iteritems():\n",
    "    if cytokine[0] == \"IL1B\" or cytokine[0] == \"MIP1A\":\n",
    "        destination = os.path.join(cwd, 'continuous_cytokines/'+cytokine[0])\n",
    "        for index,row in ped.iterrows():\n",
    "            cytokine_level = float(cytokines.loc[cytokines['SampleNumber'] == row['fid']][cytokine[0]].values)\n",
    "            if math.isnan(cytokine_level):\n",
    "                ped.drop(ped.index[index])\n",
    "#             elif cytokine_level < mean_cytokine[cytokine[0]]:\n",
    "#                 ped.at[index, 'trait'] = 1\n",
    "            else:\n",
    "#                 ped.at[index, 'trait'] = 2\n",
    "                ped.at[index, 'trait'] = cytokine_level\n",
    "        if not os.path.exists(destination):\n",
    "            os.makedirs(destination)\n",
    "        ped.to_csv(os.path.join(destination, cytokine[0]+\"_temp.ped\"), \n",
    "                   header=None, index=None, sep=' ', mode='a')\n",
    "        subprocess.call(['cp', 'template/template.map', destination])\n",
    "        subprocess.call(['mv', os.path.join(destination, 'template.map'), os.path.join(destination, cytokine[0]+\".map\")])\n",
    "        paste = \"paste -d' ' %s template/cut_template.ped >> %s\" % (os.path.join(destination, cytokine[0]+\"_temp.ped\"), os.path.join(destination, cytokine[0]+\".ped\"))\n",
    "        !{paste}\n",
    "        bed = \"plink --file %s --make-bed --out %s --noweb\" % (os.path.join(destination, cytokine[0]), os.path.join(destination, cytokine[0]))\n",
    "        gwas = \"plink --bfile %s --assoc --out %s --noweb\" % (os.path.join(destination, cytokine[0]), os.path.join(destination, cytokine[0]))\n",
    "        !{bed}\n",
    "        !{gwas}\n",
    "        Rscript = \"Rscript --vanilla ../../visualization/manhattan.R%s %s\" % (os.path.join(destination, cytokine[0]+\".assoc\"), os.path.join(destination, cytokine[0]+\".png\"))\n",
    "    #     subprocess.call(['Rscript', os.path.join(destination, cytokine[0]+\".assoc\"), os.path.join(destination, cytokine[0]+\".png\")])\n",
    "        !{Rscript}\n",
    "        delete = \"rm %s\" % os.path.join(destination, cytokine[0]+\".ped\")\n",
    "        !{delete}"
   ]
  }
 ],
 "metadata": {
  "kernelspec": {
   "display_name": "Python 3",
   "language": "python",
   "name": "python3"
  },
  "language_info": {
   "codemirror_mode": {
    "name": "ipython",
    "version": 3
   },
   "file_extension": ".py",
   "mimetype": "text/x-python",
   "name": "python",
   "nbconvert_exporter": "python",
   "pygments_lexer": "ipython3",
   "version": "3.6.4"
  }
 },
 "nbformat": 4,
 "nbformat_minor": 2
}
